{
 "cells": [
  {
   "cell_type": "markdown",
   "id": "c624a639-eeda-4188-affd-50f64378565b",
   "metadata": {},
   "source": [
    "#: Data Science Tools and Ecosystem"
   ]
  },
  {
   "cell_type": "markdown",
   "id": "1a529ff7-e0a1-4c23-9a7c-d31d92294dcd",
   "metadata": {},
   "source": [
    "In this Notebook, Data Science Tools and Ecosystem are summarized."
   ]
  },
  {
   "cell_type": "markdown",
   "id": "f420deaf-39a0-449b-8b09-e9dbb97a911e",
   "metadata": {},
   "source": [
    "**Objectives:**\n",
    "- List a few popular languages used by Data Scientists\n",
    "- List a few popular libraries used by Data Scientists\n",
    "- Indicate some of the development environment open source tools used in Data Science\n",
    "- Evaluate arithmetic expressions in Python"
   ]
  },
  {
   "cell_type": "markdown",
   "id": "ab07f3fe-04b9-40ce-bf7b-775808ac623c",
   "metadata": {},
   "source": [
    "Some of the popular languages that Data Scientists use are:\n",
    "1. Python\n",
    "2. R\n",
    "3. Java\n",
    "4. SQL\n",
    "5. Julia"
   ]
  },
  {
   "cell_type": "markdown",
   "id": "498ca7dc-ba51-4b2c-a23e-b51fc099b6de",
   "metadata": {},
   "source": [
    "Some of the commonly used libraries used by Data Scientists include:\n",
    "1. Scikit-learn\n",
    "2. TensorFlow\n",
    "3. Apache Spark"
   ]
  },
  {
   "cell_type": "code",
   "execution_count": null,
   "id": "62029277-956d-4db0-805e-6833d5d56c18",
   "metadata": {},
   "outputs": [],
   "source": [
    "|Data Science Tools|\n",
    "|------------------|\n",
    "|Jupyter|\n",
    "|RStudio|\n",
    "|Spyder|"
   ]
  },
  {
   "cell_type": "markdown",
   "id": "e2a29733-7d59-43cd-b276-89269731039e",
   "metadata": {
    "tags": []
   },
   "source": [
    "### Below are a few examples of evaluating arithmetic expressions in Python!"
   ]
  },
  {
   "cell_type": "code",
   "execution_count": 1,
   "id": "243fa269-930e-482e-b5e0-ad11d436152b",
   "metadata": {
    "tags": []
   },
   "outputs": [
    {
     "data": {
      "text/plain": [
       "17"
      ]
     },
     "execution_count": 1,
     "metadata": {},
     "output_type": "execute_result"
    }
   ],
   "source": [
    "#This a simple arithmetic expression to mutiply then add integers\n",
    "(3*4)+5"
   ]
  },
  {
   "cell_type": "code",
   "execution_count": 2,
   "id": "70a6dd9d-0c72-4d97-8baa-4c1670b17194",
   "metadata": {
    "tags": []
   },
   "outputs": [
    {
     "data": {
      "text/plain": [
       "3.3333333333333335"
      ]
     },
     "execution_count": 2,
     "metadata": {},
     "output_type": "execute_result"
    }
   ],
   "source": [
    "#This will convert 200 minutes to hours by diving by 60\n",
    "200/60"
   ]
  },
  {
   "cell_type": "markdown",
   "id": "fa50ed00-acb8-4e08-a5b7-0bb6b31750e4",
   "metadata": {},
   "source": [
    "## Author\n",
    "Lauryn Jordan"
   ]
  }
 ],
 "metadata": {
  "kernelspec": {
   "display_name": "Python",
   "language": "python",
   "name": "conda-env-python-py"
  },
  "language_info": {
   "codemirror_mode": {
    "name": "ipython",
    "version": 3
   },
   "file_extension": ".py",
   "mimetype": "text/x-python",
   "name": "python",
   "nbconvert_exporter": "python",
   "pygments_lexer": "ipython3",
   "version": "3.7.12"
  }
 },
 "nbformat": 4,
 "nbformat_minor": 5
}
